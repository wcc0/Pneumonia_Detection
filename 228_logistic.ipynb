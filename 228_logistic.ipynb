{
 "cells": [
  {
   "cell_type": "code",
   "execution_count": 1,
   "id": "7fb61708-9968-4c90-af3e-bb3b0489f868",
   "metadata": {},
   "outputs": [
    {
     "name": "stderr",
     "output_type": "stream",
     "text": [
      "25/05/09 02:54:44 WARN Utils: Your hostname, DESKTOP-EK3V8PF resolves to a loopback address: 127.0.1.1; using 172.27.235.9 instead (on interface eth0)\n",
      "25/05/09 02:54:44 WARN Utils: Set SPARK_LOCAL_IP if you need to bind to another address\n",
      "Setting default log level to \"WARN\".\n",
      "To adjust logging level use sc.setLogLevel(newLevel). For SparkR, use setLogLevel(newLevel).\n",
      "25/05/09 02:54:46 WARN NativeCodeLoader: Unable to load native-hadoop library for your platform... using builtin-java classes where applicable\n"
     ]
    }
   ],
   "source": [
    "# -----------------------------\n",
    "# 1. Libraries & Spark session\n",
    "# -----------------------------\n",
    "from pyspark.sql import Row\n",
    "import numpy as np\n",
    "import cv2\n",
    "from pyspark.sql import SparkSession\n",
    "from pyspark.sql.functions import udf\n",
    "from pyspark.sql.types import ArrayType, FloatType\n",
    "from pyspark.ml.linalg import Vectors, VectorUDT\n",
    "from pyspark.ml.feature import StringIndexer\n",
    "from pyspark.ml.classification import LogisticRegression\n",
    "from pyspark.ml import Pipeline\n",
    "\n",
    "wsl_ip = \"172.27.235.9\"  # WSL IP\n",
    "\n",
    "spark = SparkSession.builder \\\n",
    "    .appName(\"Pneumonia X-ray Preprocessing\") \\\n",
    "    .master(\"local[*]\") \\\n",
    "    .config(\"spark.hadoop.fs.defaultFS\", f\"hdfs://{wsl_ip}:9000\") \\\n",
    "    .config(\"spark.driver.host\", \"127.0.0.1\") \\\n",
    "    .config(\"spark.driver.memory\", \"6g\") \\\n",
    "    .config(\"spark.executor.memory\", \"6g\") \\\n",
    "    .config(\"spark.default.parallelism\", \"2\") \\\n",
    "    .config(\"spark.sql.shuffle.partitions\", \"2\") \\\n",
    "    .getOrCreate()\n",
    "\n",
    "sc = spark.sparkContext"
   ]
  },
  {
   "cell_type": "code",
   "execution_count": 2,
   "id": "ad7f64da-a755-4096-bba5-c5463d37ee2c",
   "metadata": {},
   "outputs": [
    {
     "data": {
      "text/html": [
       "\n",
       "            <div>\n",
       "                <p><b>SparkSession - in-memory</b></p>\n",
       "                \n",
       "        <div>\n",
       "            <p><b>SparkContext</b></p>\n",
       "\n",
       "            <p><a href=\"http://127.0.0.1:4040\">Spark UI</a></p>\n",
       "\n",
       "            <dl>\n",
       "              <dt>Version</dt>\n",
       "                <dd><code>v3.5.5</code></dd>\n",
       "              <dt>Master</dt>\n",
       "                <dd><code>local[*]</code></dd>\n",
       "              <dt>AppName</dt>\n",
       "                <dd><code>Pneumonia X-ray Preprocessing</code></dd>\n",
       "            </dl>\n",
       "        </div>\n",
       "        \n",
       "            </div>\n",
       "        "
      ],
      "text/plain": [
       "<pyspark.sql.session.SparkSession at 0x7f2f14e62b10>"
      ]
     },
     "execution_count": 2,
     "metadata": {},
     "output_type": "execute_result"
    }
   ],
   "source": [
    "spark"
   ]
  },
  {
   "cell_type": "code",
   "execution_count": 3,
   "id": "c3433239-9330-4a7d-86aa-1f37065a5647",
   "metadata": {},
   "outputs": [],
   "source": [
    "# -----------------------------\n",
    "# 2. Image Decoder + Label\n",
    "# -----------------------------\n",
    "def process_image(path_content):\n",
    "    path, content = path_content\n",
    "    try:\n",
    "        np_img = np.frombuffer(content, dtype=np.uint8)\n",
    "        img = cv2.imdecode(np_img, cv2.IMREAD_GRAYSCALE)\n",
    "        if img is None:\n",
    "            return None\n",
    "        img_resized = cv2.resize(img, (64, 64))\n",
    "        img_normalized = img_resized.astype(np.float32) / 255.0\n",
    "        label = path.split(\"/\")[-2]\n",
    "        return Row(path=path, label=label, image=img_normalized.tolist())\n",
    "    except Exception:\n",
    "        return None"
   ]
  },
  {
   "cell_type": "code",
   "execution_count": 7,
   "id": "f3d1810c-5092-4e43-b4fe-49dc1d029e01",
   "metadata": {},
   "outputs": [],
   "source": [
    "# -----------------------------\n",
    "# 3. Load and Process Images\n",
    "# -----------------------------\n",
    "binary_rdd = sc.binaryFiles(f\"hdfs://{wsl_ip}:9000/data/pneumonia_dataset/*/*.jpg\")\n",
    "processed_rdd = binary_rdd.map(process_image).filter(lambda x: x is not None)\n",
    "image_df = spark.createDataFrame(processed_rdd)"
   ]
  },
  {
   "cell_type": "code",
   "execution_count": 8,
   "id": "ed94eb80-d15c-413e-b504-b0b4198cdf6f",
   "metadata": {
    "scrolled": true
   },
   "outputs": [],
   "source": [
    "# -----------------------------\n",
    "# 4. Flatten Images for ML\n",
    "# -----------------------------\n",
    "def flatten_to_vector(image):\n",
    "    return Vectors.dense([pixel for row in image for pixel in row])\n",
    "\n",
    "flatten_udf = udf(flatten_to_vector, VectorUDT())\n",
    "image_df = image_df.withColumn(\"features\", flatten_udf(\"image\"))"
   ]
  },
  {
   "cell_type": "code",
   "execution_count": 10,
   "id": "675caa41-6819-4cb7-915f-437cd4f58242",
   "metadata": {},
   "outputs": [
    {
     "name": "stderr",
     "output_type": "stream",
     "text": [
      "25/05/09 03:04:11 WARN InstanceBuilder: Failed to load implementation from:dev.ludovic.netlib.blas.JNIBLAS\n",
      "                                                                                "
     ]
    }
   ],
   "source": [
    "# -----------------------------\n",
    "# 6. ML Pipeline: Multiclass Logistic Regression\n",
    "# -----------------------------\n",
    "label_indexer = StringIndexer(inputCol=\"label\", outputCol=\"label_index\")\n",
    "logreg = LogisticRegression(labelCol=\"label_index\", featuresCol=\"features\", maxIter=20)\n",
    "pipeline = Pipeline(stages=[label_indexer, logreg])\n",
    "\n",
    "train_df, test_df = image_df.randomSplit([0.8, 0.2], seed=42)\n",
    "svm_model = pipeline.fit(train_df)\n",
    "predictions = svm_model.transform(test_df)"
   ]
  },
  {
   "cell_type": "code",
   "execution_count": 8,
   "id": "520a3fa5-cc0a-42e2-8951-a03644bfb014",
   "metadata": {},
   "outputs": [
    {
     "name": "stderr",
     "output_type": "stream",
     "text": [
      "                                                                                "
     ]
    },
    {
     "name": "stdout",
     "output_type": "stream",
     "text": [
      "Accuracy: 0.8125\n"
     ]
    },
    {
     "name": "stderr",
     "output_type": "stream",
     "text": [
      "                                                                                "
     ]
    },
    {
     "name": "stdout",
     "output_type": "stream",
     "text": [
      "F1 Score: 0.8046\n"
     ]
    },
    {
     "name": "stderr",
     "output_type": "stream",
     "text": [
      "                                                                                "
     ]
    },
    {
     "name": "stdout",
     "output_type": "stream",
     "text": [
      "Precision: 0.8031\n"
     ]
    },
    {
     "name": "stderr",
     "output_type": "stream",
     "text": [
      "[Stage 56:==================================================>     (27 + 3) / 30]"
     ]
    },
    {
     "name": "stdout",
     "output_type": "stream",
     "text": [
      "Recall: 0.8125\n"
     ]
    },
    {
     "name": "stderr",
     "output_type": "stream",
     "text": [
      "                                                                                "
     ]
    }
   ],
   "source": [
    "from pyspark.ml.evaluation import MulticlassClassificationEvaluator\n",
    "\n",
    "# 1. Evaluate Accuracy\n",
    "evaluator = MulticlassClassificationEvaluator(\n",
    "    labelCol=\"label_index\", predictionCol=\"prediction\", metricName=\"accuracy\")\n",
    "accuracy = evaluator.evaluate(predictions)\n",
    "print(f\"Accuracy: {accuracy:.4f}\")\n",
    "\n",
    "# 2. Evaluate F1-Score\n",
    "f1_evaluator = MulticlassClassificationEvaluator(\n",
    "    labelCol=\"label_index\", predictionCol=\"prediction\", metricName=\"f1\")\n",
    "f1 = f1_evaluator.evaluate(predictions)\n",
    "print(f\"F1 Score: {f1:.4f}\")\n",
    "\n",
    "# 3. Precision\n",
    "precision_evaluator = MulticlassClassificationEvaluator(\n",
    "    labelCol=\"label_index\", predictionCol=\"prediction\", metricName=\"weightedPrecision\")\n",
    "precision = precision_evaluator.evaluate(predictions)\n",
    "print(f\"Precision: {precision:.4f}\")\n",
    "\n",
    "# 4. Recall\n",
    "recall_evaluator = MulticlassClassificationEvaluator(\n",
    "    labelCol=\"label_index\", predictionCol=\"prediction\", metricName=\"weightedRecall\")\n",
    "recall = recall_evaluator.evaluate(predictions)\n",
    "print(f\"Recall: {recall:.4f}\")\n"
   ]
  },
  {
   "cell_type": "code",
   "execution_count": 34,
   "id": "ceffe682-d822-4ed3-9dcc-15ad042f5225",
   "metadata": {},
   "outputs": [
    {
     "name": "stderr",
     "output_type": "stream",
     "text": [
      "                                                                                "
     ]
    },
    {
     "data": {
      "image/png": "[encoded data removed]",
      "text/plain": [
       "<Figure size 800x600 with 2 Axes>"
      ]
     },
     "metadata": {},
     "output_type": "display_data"
    }
   ],
   "source": [
    "import pandas as pd\n",
    "import seaborn as sns\n",
    "import matplotlib.pyplot as plt\n",
    "from sklearn.metrics import confusion_matrix, ConfusionMatrixDisplay\n",
    "\n",
    "# Collect predictions\n",
    "preds_df = predictions.select(\"label_index\", \"prediction\").toPandas()\n",
    "\n",
    "# Compute confusion matrix\n",
    "cm = confusion_matrix(preds_df[\"label_index\"], preds_df[\"prediction\"])\n",
    "\n",
    "# Define class labels in the correct index order\n",
    "class_names = [\"Normal\", \"Pneumonia-Bacterial\", \"Pneumonia-Viral\", \"Covid\"]\n",
    "\n",
    "# Display confusion matrix with custom labels\n",
    "disp = ConfusionMatrixDisplay(confusion_matrix=cm, display_labels=class_names)\n",
    "fig, ax = plt.subplots(figsize=(8, 6))\n",
    "disp.plot(ax=ax, cmap=\"Blues\", xticks_rotation=45)\n",
    "plt.title(\"LR Confusion Matrix\")\n",
    "plt.tight_layout()\n",
    "plt.show()"
   ]
  },
  {
   "cell_type": "code",
   "execution_count": 13,
   "id": "cd95a205-3ff6-4a12-90c7-cb2debbc077f",
   "metadata": {},
   "outputs": [
    {
     "name": "stderr",
     "output_type": "stream",
     "text": [
      "                                                                                "
     ]
    },
    {
     "data": {
      "text/html": [
       "<style type=\"text/css\">\n",
       "</style>\n",
       "<table id=\"T_f64f2\">\n",
       "  <caption>Per-Class Evaluation Metrics</caption>\n",
       "  <thead>\n",
       "    <tr>\n",
       "      <th class=\"blank level0\" >&nbsp;</th>\n",
       "      <th id=\"T_f64f2_level0_col0\" class=\"col_heading level0 col0\" >precision</th>\n",
       "      <th id=\"T_f64f2_level0_col1\" class=\"col_heading level0 col1\" >recall</th>\n",
       "      <th id=\"T_f64f2_level0_col2\" class=\"col_heading level0 col2\" >f1-score</th>\n",
       "    </tr>\n",
       "  </thead>\n",
       "  <tbody>\n",
       "    <tr>\n",
       "      <th id=\"T_f64f2_level0_row0\" class=\"row_heading level0 row0\" >Normal</th>\n",
       "      <td id=\"T_f64f2_row0_col0\" class=\"data row0 col0\" >0.892</td>\n",
       "      <td id=\"T_f64f2_row0_col1\" class=\"data row0 col1\" >0.934</td>\n",
       "      <td id=\"T_f64f2_row0_col2\" class=\"data row0 col2\" >0.912</td>\n",
       "    </tr>\n",
       "    <tr>\n",
       "      <th id=\"T_f64f2_level0_row1\" class=\"row_heading level0 row1\" >Pneumonia-Bacterial</th>\n",
       "      <td id=\"T_f64f2_row1_col0\" class=\"data row1 col0\" >0.727</td>\n",
       "      <td id=\"T_f64f2_row1_col1\" class=\"data row1 col1\" >0.786</td>\n",
       "      <td id=\"T_f64f2_row1_col2\" class=\"data row1 col2\" >0.756</td>\n",
       "    </tr>\n",
       "    <tr>\n",
       "      <th id=\"T_f64f2_level0_row2\" class=\"row_heading level0 row2\" >Pneumo-Viral</th>\n",
       "      <td id=\"T_f64f2_row2_col0\" class=\"data row2 col0\" >0.556</td>\n",
       "      <td id=\"T_f64f2_row2_col1\" class=\"data row2 col1\" >0.415</td>\n",
       "      <td id=\"T_f64f2_row2_col2\" class=\"data row2 col2\" >0.475</td>\n",
       "    </tr>\n",
       "    <tr>\n",
       "      <th id=\"T_f64f2_level0_row3\" class=\"row_heading level0 row3\" >Covid</th>\n",
       "      <td id=\"T_f64f2_row3_col0\" class=\"data row3 col0\" >0.898</td>\n",
       "      <td id=\"T_f64f2_row3_col1\" class=\"data row3 col1\" >0.926</td>\n",
       "      <td id=\"T_f64f2_row3_col2\" class=\"data row3 col2\" >0.912</td>\n",
       "    </tr>\n",
       "  </tbody>\n",
       "</table>\n"
      ],
      "text/plain": [
       "<pandas.io.formats.style.Styler at 0x7f2f58290740>"
      ]
     },
     "metadata": {},
     "output_type": "display_data"
    }
   ],
   "source": [
    "from sklearn.metrics import classification_report\n",
    "import pandas as pd\n",
    "import seaborn as sns\n",
    "import matplotlib.pyplot as plt\n",
    "\n",
    "# Get predictions and labels\n",
    "preds_df = predictions.select(\"label_index\", \"prediction\").toPandas()\n",
    "\n",
    "# Create report\n",
    "report = classification_report(\n",
    "    preds_df[\"label_index\"],\n",
    "    preds_df[\"prediction\"],\n",
    "    output_dict=True\n",
    ")\n",
    "\n",
    "# Convert to DataFrame\n",
    "report_df = pd.DataFrame(report).transpose()\n",
    "\n",
    "# Filter only the class rows (0, 1, 2, 3)\n",
    "class_metrics = report_df.iloc[:4][[\"precision\", \"recall\", \"f1-score\"]]\n",
    "class_metrics.index = [\"Normal\", \"Pneumonia-Bacterial\", \"Pneumo-Viral\", \"Covid\"]\n",
    "\n",
    "display(class_metrics.style.format(\"{:.3f}\").set_caption(\"Per-Class Evaluation Metrics\"))"
   ]
  },
  {
   "cell_type": "code",
   "execution_count": 14,
   "id": "ecbd10cb-2120-4a51-bb13-8a6f71beb338",
   "metadata": {},
   "outputs": [],
   "source": [
    "spark.stop()"
   ]
  }
 ],
 "metadata": {
  "kernelspec": {
   "display_name": "Python 3 (ipykernel)",
   "language": "python",
   "name": "python3"
  },
  "language_info": {
   "codemirror_mode": {
    "name": "ipython",
    "version": 3
   },
   "file_extension": ".py",
   "mimetype": "text/x-python",
   "name": "python",
   "nbconvert_exporter": "python",
   "pygments_lexer": "ipython3",
   "version": "3.12.3"
  }
 },
 "nbformat": 4,
 "nbformat_minor": 5
}
