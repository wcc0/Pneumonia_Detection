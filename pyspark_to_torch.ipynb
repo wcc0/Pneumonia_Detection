{
 "cells": [
  {
   "cell_type": "code",
   "execution_count": 1,
   "id": "04923e30-17a7-43d9-97ad-21d610ce9bdf",
   "metadata": {},
   "outputs": [
    {
     "name": "stderr",
     "output_type": "stream",
     "text": [
      "25/05/07 19:04:18 WARN Utils: Your hostname, DESKTOP-EK3V8PF resolves to a loopback address: 127.0.1.1; using 172.27.235.9 instead (on interface eth0)\n",
      "25/05/07 19:04:18 WARN Utils: Set SPARK_LOCAL_IP if you need to bind to another address\n",
      "Setting default log level to \"WARN\".\n",
      "To adjust logging level use sc.setLogLevel(newLevel). For SparkR, use setLogLevel(newLevel).\n",
      "25/05/07 19:04:20 WARN NativeCodeLoader: Unable to load native-hadoop library for your platform... using builtin-java classes where applicable\n"
     ]
    }
   ],
   "source": [
    "# Required Imports\n",
    "import numpy as np\n",
    "import cv2\n",
    "from pyspark.sql import Row\n",
    "from pyspark.sql import SparkSession\n",
    "\n",
    "# Start Spark Session if not already running\n",
    "wsl_ip = \"172.27.235.9\"\n",
    "spark = SparkSession.builder \\\n",
    "    .appName(\"Pneumonia X-ray Preprocessing\") \\\n",
    "    .master(\"local[*]\") \\\n",
    "    .config(\"spark.hadoop.fs.defaultFS\", f\"hdfs://{wsl_ip}:9000\") \\\n",
    "    .config(\"spark.driver.host\", \"127.0.0.1\") \\\n",
    "    .config(\"spark.driver.memory\", \"2g\") \\\n",
    "    .config(\"spark.executor.memory\", \"2g\") \\\n",
    "    .config(\"spark.sql.shuffle.partitions\", \"2\") \\\n",
    "    .getOrCreate()"
   ]
  },
  {
   "cell_type": "code",
   "execution_count": 5,
   "id": "2f236f90-16ed-47ff-a9ff-eb13e96b49b8",
   "metadata": {},
   "outputs": [
    {
     "name": "stderr",
     "output_type": "stream",
     "text": [
      "Collecting all data: 9208it [02:00, 76.53it/s]                      (0 + 1) / 1]\n"
     ]
    },
    {
     "name": "stdout",
     "output_type": "stream",
     "text": [
      "✅ Saved 10 chunks.\n"
     ]
    }
   ],
   "source": [
    "from tqdm import tqdm\n",
    "import os\n",
    "\n",
    "os.makedirs(\"preprocessed_npy\", exist_ok=True)\n",
    "all_images, all_labels = [], []\n",
    "\n",
    "# Preprocessing function\n",
    "def process_image(path_content):\n",
    "    path, content = path_content\n",
    "    try:\n",
    "        np_img = np.frombuffer(content, dtype=np.uint8)\n",
    "        img = cv2.imdecode(np_img, cv2.IMREAD_GRAYSCALE)\n",
    "        if img is None:\n",
    "            return None\n",
    "        img_resized = cv2.resize(img, (224, 224))\n",
    "        img_normalized = img_resized.astype(np.float32) / 255.0\n",
    "        label = path.split(\"/\")[-2]\n",
    "        return Row(path=path, label=label, image=img_normalized.tolist())\n",
    "    except Exception as e:\n",
    "        print(f\"[SKIPPED] {path} due to {e}\")\n",
    "        return None\n",
    "\n",
    "# Load and process images\n",
    "binary_rdd = sc.binaryFiles(f\"hdfs://{wsl_ip}:9000/data/pneumonia_dataset/*/*.jpg\")\n",
    "processed_rdd = binary_rdd.map(process_image).filter(lambda x: x is not None)\n",
    "image_df = spark.createDataFrame(processed_rdd)\n",
    "\n",
    "iterator = image_df.select(\"image\", \"label\").toLocalIterator()\n",
    "\n",
    "for row in tqdm(iterator, desc=\"Collecting all data\"):\n",
    "    all_images.append(np.array(row[\"image\"], dtype=np.float32))\n",
    "    all_labels.append(row[\"label\"])\n",
    "\n",
    "# Step 2: Encode labels globally\n",
    "from sklearn.preprocessing import LabelEncoder\n",
    "label_encoder = LabelEncoder()\n",
    "labels_encoded = label_encoder.fit_transform(all_labels)\n",
    "\n",
    "# Optional: save classes\n",
    "np.save(\"preprocessed_npy/label_classes.npy\", label_encoder.classes_)\n",
    "\n",
    "# Step 3: Save in chunks\n",
    "chunk_size = 1000\n",
    "for i in range(0, len(all_images), chunk_size):\n",
    "    chunk_imgs = np.stack(all_images[i:i+chunk_size])\n",
    "    chunk_labels = labels_encoded[i:i+chunk_size]\n",
    "    np.save(f\"preprocessed_npy/images_chunk{i//chunk_size}.npy\", chunk_imgs)\n",
    "    np.save(f\"preprocessed_npy/labels_chunk{i//chunk_size}.npy\", chunk_labels)\n",
    "\n",
    "print(f\"✅ Saved {len(all_images) // chunk_size + 1} chunks.\")\n"
   ]
  },
  {
   "cell_type": "code",
   "execution_count": 6,
   "id": "fef0c5e2-32a6-4171-9b3c-f5d3a20430bd",
   "metadata": {},
   "outputs": [],
   "source": [
    "spark.stop()"
   ]
  }
 ],
 "metadata": {
  "kernelspec": {
   "display_name": "Python 3 (ipykernel)",
   "language": "python",
   "name": "python3"
  },
  "language_info": {
   "codemirror_mode": {
    "name": "ipython",
    "version": 3
   },
   "file_extension": ".py",
   "mimetype": "text/x-python",
   "name": "python",
   "nbconvert_exporter": "python",
   "pygments_lexer": "ipython3",
   "version": "3.12.3"
  }
 },
 "nbformat": 4,
 "nbformat_minor": 5
}
